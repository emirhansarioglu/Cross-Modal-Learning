{
 "cells": [
  {
   "cell_type": "code",
   "execution_count": 3,
   "id": "dc63c916",
   "metadata": {},
   "outputs": [
    {
     "name": "stdout",
     "output_type": "stream",
     "text": [
      "Root directory: D:\\RSCode\\Cross-Modal-Learning\n"
     ]
    }
   ],
   "source": [
    "import os\n",
    "import tifffile as tiff\n",
    "import matplotlib.pyplot as plt\n",
    "import numpy as np\n",
    "import pandas as pd\n",
    "import torch\n",
    "from torch.utils.data import Dataset\n",
    "from torchvision import transforms\n",
    "import rasterio\n",
    "from rasterio.plot import show\n",
    "\n",
    "print(\"Root directory:\", os.getcwd())"
   ]
  },
  {
   "cell_type": "code",
   "execution_count": 6,
   "id": "cf56c50b",
   "metadata": {},
   "outputs": [],
   "source": [
    "s2_folder = \"D:\\RSCode\\BigEarthNet-S2\"\n",
    "s1_folder = \"D:\\RSCode\\BigEarthNet-S1\""
   ]
  },
  {
   "cell_type": "markdown",
   "id": "0e57a135",
   "metadata": {},
   "source": [
    "# Sentinel-1"
   ]
  },
  {
   "cell_type": "markdown",
   "id": "16e77fad",
   "metadata": {},
   "source": [
    "The BigEarthNet-S1 directory has one directory per Sentinel-1 source tile (in total 312) and a\n",
    "dedicated directory for each individual patch. Each patch directory contains the GeoTIFF files for\n",
    "the individual bands."
   ]
  },
  {
   "cell_type": "code",
   "execution_count": 21,
   "id": "81ba0c07",
   "metadata": {},
   "outputs": [
    {
     "name": "stdout",
     "output_type": "stream",
     "text": [
      "Number of tiles: 312 \n",
      "Number of patches in a source tile: 1699\n"
     ]
    }
   ],
   "source": [
    "s1_tiles = [folder for folder in os.listdir(s1_folder)] \n",
    "s1_tile_patches = [folder for folder in os.listdir(os.path.join(s1_folder, s1_tiles[0]))]\n",
    "\n",
    "print(\"Number of tiles:\", len(s1_tiles), \"\\nNumber of patches in a source tile:\", len(s1_tile_patches))"
   ]
  },
  {
   "cell_type": "markdown",
   "id": "632bf91e",
   "metadata": {},
   "source": [
    "VV Polarization (Vertical Transmit and Vertical Receive) is sensitive to vertically oriented structures and surfaces. For example, it responds well to flat surfaces like calm water bodies and canopies of trees or crops.\n",
    "\n",
    "VH Polarization (Vertical Transmit and Horizontal Receive) is more sensitive to complex and rough surfaces that cause depolarization of the radar signal. It captures more information from surfaces that scatter the radar wave in multiple directions, such as vegetation, rough terrain, and heterogeneous surfaces."
   ]
  },
  {
   "cell_type": "code",
   "execution_count": 22,
   "id": "6c8c8a1d",
   "metadata": {},
   "outputs": [
    {
     "name": "stdout",
     "output_type": "stream",
     "text": [
      "['S1A_IW_GRDH_1SDV_20170613T165043_33UUP_61_39_VH.tif', 'S1A_IW_GRDH_1SDV_20170613T165043_33UUP_61_39_VV.tif']\n"
     ]
    }
   ],
   "source": [
    "s1_tiff_files = [file for file in os.listdir(os.path.join(s1_folder, s1_tiles[0], s1_tile_patches[0]))]\n",
    "print(s1_tiff_files)"
   ]
  },
  {
   "cell_type": "code",
   "execution_count": 23,
   "id": "ab760cdb",
   "metadata": {},
   "outputs": [
    {
     "name": "stdout",
     "output_type": "stream",
     "text": [
      "VV band shape:  (1, 120, 120)\n",
      "VH band shape:  (1, 120, 120)\n"
     ]
    }
   ],
   "source": [
    "with rasterio.open(os.path.join(s1_folder, s1_tiles[0], s1_tile_patches[0], s1_tiff_files[0])) as src:\n",
    "    sample_VH = src.read() \n",
    "with rasterio.open(os.path.join(s1_folder, s1_tiles[0], s1_tile_patches[0], s1_tiff_files[1])) as src:\n",
    "    sample_VV = src.read() \n",
    "\n",
    "print(\"VV band shape: \", sample_VV.shape)\n",
    "print(\"VH band shape: \", sample_VH.shape)"
   ]
  },
  {
   "cell_type": "markdown",
   "id": "e9e022a8",
   "metadata": {},
   "source": [
    "# Sentinel-2"
   ]
  },
  {
   "cell_type": "markdown",
   "id": "f523dbf4",
   "metadata": {},
   "source": [
    "The BigEarthNet-S2 directory has one directory per Sentinel-2 source tile (in total 115) and a\n",
    "dedicated directory for each individual patch. Each patch directory contains the GeoTIFF files for\n",
    "the individual bands."
   ]
  },
  {
   "cell_type": "code",
   "execution_count": 24,
   "id": "1208014f",
   "metadata": {},
   "outputs": [
    {
     "name": "stdout",
     "output_type": "stream",
     "text": [
      "Number of tiles: 115 \n",
      "Number of patches in a source tile: 3305\n"
     ]
    }
   ],
   "source": [
    "s2_tiles = [folder for folder in os.listdir(s2_folder)] \n",
    "s2_tile_patches = [folder for folder in os.listdir(os.path.join(s2_folder, s2_tiles[0]))]\n",
    "\n",
    "print(\"Number of tiles:\", len(s2_tiles), \"\\nNumber of patches in a source tile:\", len(s2_tile_patches))"
   ]
  },
  {
   "cell_type": "code",
   "execution_count": 28,
   "id": "20ff4a5c",
   "metadata": {},
   "outputs": [
    {
     "name": "stdout",
     "output_type": "stream",
     "text": [
      "Band \t Resolution \n",
      "\n",
      "B01 \t 60 m \n",
      "\n",
      "B02 \t 10 m \n",
      "\n",
      "B03 \t 10 m \n",
      "\n",
      "B04 \t 10 m \n",
      "\n",
      "B05 \t 20 m \n",
      "\n",
      "B06 \t 20 m \n",
      "\n",
      "B07 \t 20 m \n",
      "\n",
      "B08 \t 10 m \n",
      "\n",
      "B09 \t 60 m \n",
      "\n",
      "B11 \t 60 m \n",
      "\n",
      "B12 \t 20 m \n",
      "\n",
      "B8A \t 20 m \n",
      "\n"
     ]
    }
   ],
   "source": [
    "s2_tiff_files = [file for file in os.listdir(os.path.join(s2_folder, s2_tiles[0], s2_tile_patches[0]))]\n",
    "\n",
    "#https://gisgeography.com/sentinel-2-bands-combinations\n",
    "band_resolutions = [60, 10, 10, 10, 20, 20, 20, 10, 60, 60, 20, 20, 20] \n",
    "\n",
    "print('Band \\t Resolution \\n')\n",
    "for i in range(len(s2_tiff_files)):\n",
    "    print(s2_tiff_files[i][-7:-4], '\\t', band_resolutions[i], 'm', '\\n')"
   ]
  }
 ],
 "metadata": {
  "kernelspec": {
   "display_name": "Python 3 (ipykernel)",
   "language": "python",
   "name": "python3"
  },
  "language_info": {
   "codemirror_mode": {
    "name": "ipython",
    "version": 3
   },
   "file_extension": ".py",
   "mimetype": "text/x-python",
   "name": "python",
   "nbconvert_exporter": "python",
   "pygments_lexer": "ipython3",
   "version": "3.9.7"
  }
 },
 "nbformat": 4,
 "nbformat_minor": 5
}
